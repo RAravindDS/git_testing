{
 "cells": [
  {
   "cell_type": "code",
   "execution_count": 1,
   "id": "a70b2079-8fd8-4342-9c1a-f2a4fef4426f",
   "metadata": {},
   "outputs": [
    {
     "name": "stdout",
     "output_type": "stream",
     "text": [
      "aravind aravi\n"
     ]
    }
   ],
   "source": [
    "a = 'aravind'\n",
    "b = 'aravi'\n",
    "print(a,b)"
   ]
  },
  {
   "cell_type": "code",
   "execution_count": 3,
   "id": "c3be95d9-aed6-4c91-abbd-340567074270",
   "metadata": {},
   "outputs": [
    {
     "name": "stdout",
     "output_type": "stream",
     "text": [
      "aravi aravind\n"
     ]
    }
   ],
   "source": [
    "a = 'aravind'\n",
    "b = 'aravi'\n",
    "print(b,a)"
   ]
  },
  {
   "cell_type": "code",
   "execution_count": 4,
   "id": "2ccaf80e-705d-4ec6-a0b2-d12aab23411e",
   "metadata": {},
   "outputs": [
    {
     "data": {
      "text/plain": [
       "'summa'"
      ]
     },
     "execution_count": 4,
     "metadata": {},
     "output_type": "execute_result"
    }
   ],
   "source": [
    "'summa'\n"
   ]
  },
  {
   "cell_type": "code",
   "execution_count": null,
   "id": "31be1f08-cab8-48f0-a838-ff77b4aad58e",
   "metadata": {},
   "outputs": [],
   "source": []
  }
 ],
 "metadata": {
  "kernelspec": {
   "display_name": "Python 3 (ipykernel)",
   "language": "python",
   "name": "python3"
  },
  "language_info": {
   "codemirror_mode": {
    "name": "ipython",
    "version": 3
   },
   "file_extension": ".py",
   "mimetype": "text/x-python",
   "name": "python",
   "nbconvert_exporter": "python",
   "pygments_lexer": "ipython3",
   "version": "3.9.7"
  }
 },
 "nbformat": 4,
 "nbformat_minor": 5
}
